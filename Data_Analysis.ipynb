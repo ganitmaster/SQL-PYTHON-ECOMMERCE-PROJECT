{
 "cells": [
  {
   "cell_type": "markdown",
   "id": "169fef97-e436-48ad-b2e6-7387179ad8e0",
   "metadata": {},
   "source": [
    "## IMPORTING LIBRARIES AND CONNECTING MYSQL"
   ]
  },
  {
   "cell_type": "code",
   "execution_count": 5,
   "id": "ca01bc3b-804c-45b5-8b89-020bd37f0ed4",
   "metadata": {},
   "outputs": [],
   "source": [
    "import pandas as pd\n",
    "import numpy as np\n",
    "import matplotlib.pyplot as plt\n",
    "import seaborn as sns\n",
    "import mysql.connector\n",
    "\n",
    "db = mysql.connector.connect(host = \"localhost\",\n",
    "                             username = \"root\",\n",
    "                             password = \"Somnath.Kajal@2002\",\n",
    "                             database = \"ecommerce\",\n",
    "                             consume_results=True\n",
    "                            )\n",
    "cur = db.cursor()\n",
    "cnx = mysql.connector.connect()"
   ]
  },
  {
   "cell_type": "markdown",
   "id": "9b07d727-240b-4b4f-8523-fed902c9e1a4",
   "metadata": {},
   "source": [
    "## BASIC QUERIES"
   ]
  },
  {
   "cell_type": "markdown",
   "id": "8dc74b4d-1e9f-4074-99f2-71f54b5f60f3",
   "metadata": {},
   "source": [
    "### List all cities where customers are located"
   ]
  },
  {
   "cell_type": "code",
   "execution_count": 103,
   "id": "c275a6a2-ba6a-4e2a-8d26-2c382934189f",
   "metadata": {},
   "outputs": [
    {
     "data": {
      "text/html": [
       "<div>\n",
       "<style scoped>\n",
       "    .dataframe tbody tr th:only-of-type {\n",
       "        vertical-align: middle;\n",
       "    }\n",
       "\n",
       "    .dataframe tbody tr th {\n",
       "        vertical-align: top;\n",
       "    }\n",
       "\n",
       "    .dataframe thead th {\n",
       "        text-align: right;\n",
       "    }\n",
       "</style>\n",
       "<table border=\"1\" class=\"dataframe\">\n",
       "  <thead>\n",
       "    <tr style=\"text-align: right;\">\n",
       "      <th></th>\n",
       "      <th>Customer_City</th>\n",
       "    </tr>\n",
       "  </thead>\n",
       "  <tbody>\n",
       "    <tr>\n",
       "      <th>0</th>\n",
       "      <td>franca</td>\n",
       "    </tr>\n",
       "    <tr>\n",
       "      <th>1</th>\n",
       "      <td>sao bernardo do campo</td>\n",
       "    </tr>\n",
       "    <tr>\n",
       "      <th>2</th>\n",
       "      <td>sao paulo</td>\n",
       "    </tr>\n",
       "    <tr>\n",
       "      <th>3</th>\n",
       "      <td>mogi das cruzes</td>\n",
       "    </tr>\n",
       "    <tr>\n",
       "      <th>4</th>\n",
       "      <td>campinas</td>\n",
       "    </tr>\n",
       "  </tbody>\n",
       "</table>\n",
       "</div>"
      ],
      "text/plain": [
       "           Customer_City\n",
       "0                 franca\n",
       "1  sao bernardo do campo\n",
       "2              sao paulo\n",
       "3        mogi das cruzes\n",
       "4               campinas"
      ]
     },
     "execution_count": 103,
     "metadata": {},
     "output_type": "execute_result"
    }
   ],
   "source": [
    "query1 = \"\"\" select distinct customer_city from customers \"\"\"\n",
    "cur.execute(query1)\n",
    "data = cur.fetchall()\n",
    "df = pd.DataFrame(data,columns=[\"Customer_City\"])\n",
    "df.head()"
   ]
  },
  {
   "cell_type": "markdown",
   "id": "d9edb6c9-34fb-4600-960a-350fa0effae0",
   "metadata": {},
   "source": [
    "### Count the number of orders placed in 2017"
   ]
  },
  {
   "cell_type": "code",
   "execution_count": 44,
   "id": "919a2857-7643-4a6d-b476-845a4bc31d57",
   "metadata": {},
   "outputs": [
    {
     "data": {
      "text/plain": [
       "('total orders placed in 2017 are : ', 90202)"
      ]
     },
     "execution_count": 44,
     "metadata": {},
     "output_type": "execute_result"
    }
   ],
   "source": [
    "query2 = \"\"\" select count(order_id) from orders where year(order_purchase_timestamp) = 2017 \"\"\"\n",
    "cur.execute(query2)\n",
    "data = cur.fetchall()\n",
    "\"total orders placed in 2017 are : \", data[0][0]"
   ]
  },
  {
   "cell_type": "markdown",
   "id": "b8ffa817-6d00-47cf-b8ba-4da16ed677b9",
   "metadata": {},
   "source": [
    "### Find the total sales per category "
   ]
  },
  {
   "cell_type": "code",
   "execution_count": 57,
   "id": "c31e8609-e0ed-4686-b165-2911a58dc3f2",
   "metadata": {},
   "outputs": [
    {
     "data": {
      "text/html": [
       "<div>\n",
       "<style scoped>\n",
       "    .dataframe tbody tr th:only-of-type {\n",
       "        vertical-align: middle;\n",
       "    }\n",
       "\n",
       "    .dataframe tbody tr th {\n",
       "        vertical-align: top;\n",
       "    }\n",
       "\n",
       "    .dataframe thead th {\n",
       "        text-align: right;\n",
       "    }\n",
       "</style>\n",
       "<table border=\"1\" class=\"dataframe\">\n",
       "  <thead>\n",
       "    <tr style=\"text-align: right;\">\n",
       "      <th></th>\n",
       "      <th>Category</th>\n",
       "      <th>Sales</th>\n",
       "    </tr>\n",
       "  </thead>\n",
       "  <tbody>\n",
       "    <tr>\n",
       "      <th>0</th>\n",
       "      <td>PERFUMERY</td>\n",
       "      <td>506738.66</td>\n",
       "    </tr>\n",
       "    <tr>\n",
       "      <th>1</th>\n",
       "      <td>FURNITURE DECORATION</td>\n",
       "      <td>1430176.39</td>\n",
       "    </tr>\n",
       "    <tr>\n",
       "      <th>2</th>\n",
       "      <td>TELEPHONY</td>\n",
       "      <td>486882.05</td>\n",
       "    </tr>\n",
       "    <tr>\n",
       "      <th>3</th>\n",
       "      <td>BED TABLE BATH</td>\n",
       "      <td>1712553.67</td>\n",
       "    </tr>\n",
       "    <tr>\n",
       "      <th>4</th>\n",
       "      <td>AUTOMOTIVE</td>\n",
       "      <td>852294.33</td>\n",
       "    </tr>\n",
       "    <tr>\n",
       "      <th>...</th>\n",
       "      <td>...</td>\n",
       "      <td>...</td>\n",
       "    </tr>\n",
       "    <tr>\n",
       "      <th>69</th>\n",
       "      <td>CDS MUSIC DVDS</td>\n",
       "      <td>1199.43</td>\n",
       "    </tr>\n",
       "    <tr>\n",
       "      <th>70</th>\n",
       "      <td>LA CUISINE</td>\n",
       "      <td>2913.53</td>\n",
       "    </tr>\n",
       "    <tr>\n",
       "      <th>71</th>\n",
       "      <td>FASHION CHILDREN'S CLOTHING</td>\n",
       "      <td>785.67</td>\n",
       "    </tr>\n",
       "    <tr>\n",
       "      <th>72</th>\n",
       "      <td>PC GAMER</td>\n",
       "      <td>2174.43</td>\n",
       "    </tr>\n",
       "    <tr>\n",
       "      <th>73</th>\n",
       "      <td>INSURANCE AND SERVICES</td>\n",
       "      <td>324.51</td>\n",
       "    </tr>\n",
       "  </tbody>\n",
       "</table>\n",
       "<p>74 rows × 2 columns</p>\n",
       "</div>"
      ],
      "text/plain": [
       "                       Category       Sales\n",
       "0                     PERFUMERY   506738.66\n",
       "1          FURNITURE DECORATION  1430176.39\n",
       "2                     TELEPHONY   486882.05\n",
       "3                BED TABLE BATH  1712553.67\n",
       "4                    AUTOMOTIVE   852294.33\n",
       "..                          ...         ...\n",
       "69               CDS MUSIC DVDS     1199.43\n",
       "70                   LA CUISINE     2913.53\n",
       "71  FASHION CHILDREN'S CLOTHING      785.67\n",
       "72                     PC GAMER     2174.43\n",
       "73       INSURANCE AND SERVICES      324.51\n",
       "\n",
       "[74 rows x 2 columns]"
      ]
     },
     "execution_count": 57,
     "metadata": {},
     "output_type": "execute_result"
    }
   ],
   "source": [
    "query3 = \"\"\" select upper(products.product_category) category,\n",
    "round(sum(payments.payment_value),2) sales\n",
    "from products join order_items \n",
    "on products.product_id = order_items.product_id\n",
    "join payments\n",
    "on payments.order_id = order_items.order_id\n",
    "group by category \"\"\"\n",
    "cur.execute(query3)\n",
    "data = cur.fetchall()\n",
    "pd.DataFrame(data, columns = [\"Category\",\"Sales\"])"
   ]
  },
  {
   "cell_type": "markdown",
   "id": "a8d2b56d-2f40-4990-9619-eae47bd874b2",
   "metadata": {},
   "source": [
    "### Calculate the percentage of orders that were paid in installments"
   ]
  },
  {
   "cell_type": "code",
   "execution_count": 72,
   "id": "d85a1779-7b30-4624-9a1a-6ca58983a6f3",
   "metadata": {},
   "outputs": [
    {
     "data": {
      "text/plain": [
       "[(Decimal('99.9981'),)]"
      ]
     },
     "execution_count": 72,
     "metadata": {},
     "output_type": "execute_result"
    }
   ],
   "source": [
    "query4 = \"\"\" select (sum(case when payment_installments>=1 then 1\n",
    "else 0 end))/count(*)*100 from payments \"\"\"\n",
    "cur.execute(query4)\n",
    "data = cur.fetchall()\n",
    "data"
   ]
  },
  {
   "cell_type": "markdown",
   "id": "b676b61a-19bd-4ae5-a0e3-2803e6b4c36a",
   "metadata": {},
   "source": [
    "### Count the number of customers from each state"
   ]
  },
  {
   "cell_type": "code",
   "execution_count": 126,
   "id": "b02c9b4a-a80c-4817-b299-26aac4756933",
   "metadata": {},
   "outputs": [
    {
     "data": {
      "image/png": "[encoded data removed]",
      "text/plain": [
       "<Figure size 1000x400 with 1 Axes>"
      ]
     },
     "metadata": {},
     "output_type": "display_data"
    }
   ],
   "source": [
    "query5 = \"\"\" select customer_state, count(customer_id) from customers group by customer_state \"\"\"\n",
    "cur.execute(query5)\n",
    "data = cur.fetchall()\n",
    "df = pd.DataFrame(data, columns = [\"State\",\"No. Of Customers\"])\n",
    "df = df.sort_values(by = \"No. Of Customers\", ascending = False)\n",
    "\n",
    "plt.figure(figsize=(10,4))\n",
    "plt.bar(df[\"State\"], df[\"No. Of Customers\"])\n",
    "plt.xticks(rotation=90)\n",
    "plt.xlabel(\" State \")\n",
    "plt.ylabel(\"Number Of Customers\")\n",
    "plt.show()"
   ]
  },
  {
   "cell_type": "markdown",
   "id": "ffa84f8d-ff24-43fa-a069-9a1f58caac88",
   "metadata": {},
   "source": [
    "## INTERMEDIATE QUERIES"
   ]
  },
  {
   "cell_type": "markdown",
   "id": "5ed154f4-e713-4740-b6ae-8009b0330cab",
   "metadata": {},
   "source": [
    "### Calculate the number of orders per month in 2018"
   ]
  },
  {
   "cell_type": "code",
   "execution_count": 144,
   "id": "0ef459db-f83a-48b1-b646-77ee75585f63",
   "metadata": {},
   "outputs": [
    {
     "data": {
      "image/png": "[encoded data removed]",
      "text/plain": [
       "<Figure size 1000x400 with 1 Axes>"
      ]
     },
     "metadata": {},
     "output_type": "display_data"
    }
   ],
   "source": [
    "query = \"\"\" select monthname(order_purchase_timestamp) as Month,count(order_id) as Orders\n",
    "from orders where year(order_purchase_timestamp) = 2018\n",
    "group by Month\"\"\"\n",
    "cur.execute(query)\n",
    "data = cur.fetchall()\n",
    "df = pd.DataFrame(data,columns=[\"Month\",\"Orders\"])\n",
    "months_ordered = [\n",
    "    \"January\", \"February\", \"March\", \"April\", \"May\", \"June\",\n",
    "    \"July\", \"August\", \"September\", \"October\", \"November\", \"December\"\n",
    "]\n",
    "\n",
    "plt.figure(figsize=(10,4))\n",
    "ax = sns.barplot(x=df[\"Month\"],y=df[\"Orders\"],data=df,order=months_ordered)\n",
    "plt.xticks(rotation=45)\n",
    "ax.bar_label(ax.containers[0])\n",
    "plt.title(\"Orders in 2018\")\n",
    "plt.xlabel(\"Months\")\n",
    "plt.ylabel(\"Orders\")\n",
    "plt.show()"
   ]
  },
  {
   "cell_type": "markdown",
   "id": "5f160569-b58f-41a6-a1b9-0843eed0f0ea",
   "metadata": {},
   "source": [
    "### Find the average number of products per order, grouped by customer city"
   ]
  },
  {
   "cell_type": "code",
   "execution_count": 169,
   "id": "ea004339-d530-4066-88ae-0f0cc716bbf5",
   "metadata": {},
   "outputs": [
    {
     "data": {
      "text/html": [
       "<div>\n",
       "<style scoped>\n",
       "    .dataframe tbody tr th:only-of-type {\n",
       "        vertical-align: middle;\n",
       "    }\n",
       "\n",
       "    .dataframe tbody tr th {\n",
       "        vertical-align: top;\n",
       "    }\n",
       "\n",
       "    .dataframe thead th {\n",
       "        text-align: right;\n",
       "    }\n",
       "</style>\n",
       "<table border=\"1\" class=\"dataframe\">\n",
       "  <thead>\n",
       "    <tr style=\"text-align: right;\">\n",
       "      <th></th>\n",
       "      <th>0</th>\n",
       "      <th>1</th>\n",
       "    </tr>\n",
       "  </thead>\n",
       "  <tbody>\n",
       "    <tr>\n",
       "      <th>0</th>\n",
       "      <td>padre carvalho</td>\n",
       "      <td>14</td>\n",
       "    </tr>\n",
       "    <tr>\n",
       "      <th>1</th>\n",
       "      <td>celso ramos</td>\n",
       "      <td>13</td>\n",
       "    </tr>\n",
       "    <tr>\n",
       "      <th>2</th>\n",
       "      <td>datas</td>\n",
       "      <td>12</td>\n",
       "    </tr>\n",
       "    <tr>\n",
       "      <th>3</th>\n",
       "      <td>candido godoi</td>\n",
       "      <td>12</td>\n",
       "    </tr>\n",
       "    <tr>\n",
       "      <th>4</th>\n",
       "      <td>matias olimpio</td>\n",
       "      <td>10</td>\n",
       "    </tr>\n",
       "    <tr>\n",
       "      <th>...</th>\n",
       "      <td>...</td>\n",
       "      <td>...</td>\n",
       "    </tr>\n",
       "    <tr>\n",
       "      <th>4105</th>\n",
       "      <td>sebastiao leal</td>\n",
       "      <td>2</td>\n",
       "    </tr>\n",
       "    <tr>\n",
       "      <th>4106</th>\n",
       "      <td>tibau do sul</td>\n",
       "      <td>2</td>\n",
       "    </tr>\n",
       "    <tr>\n",
       "      <th>4107</th>\n",
       "      <td>morro agudo de goias</td>\n",
       "      <td>2</td>\n",
       "    </tr>\n",
       "    <tr>\n",
       "      <th>4108</th>\n",
       "      <td>sao mamede</td>\n",
       "      <td>2</td>\n",
       "    </tr>\n",
       "    <tr>\n",
       "      <th>4109</th>\n",
       "      <td>padre paraiso</td>\n",
       "      <td>2</td>\n",
       "    </tr>\n",
       "  </tbody>\n",
       "</table>\n",
       "<p>4110 rows × 2 columns</p>\n",
       "</div>"
      ],
      "text/plain": [
       "                         0   1\n",
       "0           padre carvalho  14\n",
       "1              celso ramos  13\n",
       "2                    datas  12\n",
       "3            candido godoi  12\n",
       "4           matias olimpio  10\n",
       "...                    ...  ..\n",
       "4105        sebastiao leal   2\n",
       "4106          tibau do sul   2\n",
       "4107  morro agudo de goias   2\n",
       "4108            sao mamede   2\n",
       "4109         padre paraiso   2\n",
       "\n",
       "[4110 rows x 2 columns]"
      ]
     },
     "execution_count": 169,
     "metadata": {},
     "output_type": "execute_result"
    }
   ],
   "source": [
    "query = \"\"\" with count_per_order as (select orders.customer_id,orders.order_id, count(order_items.order_id) as oc\n",
    "from orders join order_items\n",
    "on orders.order_id = order_items.order_id\n",
    "group by orders.customer_id,orders.order_id )\n",
    "select customers.customer_city, round(avg(count_per_order.oc),0) average_orders\n",
    "from customers join count_per_order\n",
    "on customers.customer_id = count_per_order.customer_id \n",
    "group by customers.customer_city order by average_orders desc\"\"\"\n",
    "cur.execute(query)\n",
    "data = cur.fetchall()\n",
    "df = pd.DataFrame(data)\n",
    "df"
   ]
  },
  {
   "cell_type": "markdown",
   "id": "75f00fa3-c91a-498f-b6d8-2385f7f8cdc1",
   "metadata": {},
   "source": [
    "### Calculate the percentage of total revenue contributed by each product category."
   ]
  },
  {
   "cell_type": "code",
   "execution_count": 17,
   "id": "5d8fd2bd-bb6e-4caf-b596-9a15ea583a15",
   "metadata": {},
   "outputs": [
    {
     "data": {
      "text/html": [
       "<div>\n",
       "<style scoped>\n",
       "    .dataframe tbody tr th:only-of-type {\n",
       "        vertical-align: middle;\n",
       "    }\n",
       "\n",
       "    .dataframe tbody tr th {\n",
       "        vertical-align: top;\n",
       "    }\n",
       "\n",
       "    .dataframe thead th {\n",
       "        text-align: right;\n",
       "    }\n",
       "</style>\n",
       "<table border=\"1\" class=\"dataframe\">\n",
       "  <thead>\n",
       "    <tr style=\"text-align: right;\">\n",
       "      <th></th>\n",
       "      <th>Category</th>\n",
       "      <th>Sales_percentage</th>\n",
       "    </tr>\n",
       "  </thead>\n",
       "  <tbody>\n",
       "    <tr>\n",
       "      <th>0</th>\n",
       "      <td>BED TABLE BATH</td>\n",
       "      <td>10.70</td>\n",
       "    </tr>\n",
       "    <tr>\n",
       "      <th>1</th>\n",
       "      <td>HEALTH BEAUTY</td>\n",
       "      <td>10.35</td>\n",
       "    </tr>\n",
       "    <tr>\n",
       "      <th>2</th>\n",
       "      <td>COMPUTER ACCESSORIES</td>\n",
       "      <td>9.90</td>\n",
       "    </tr>\n",
       "    <tr>\n",
       "      <th>3</th>\n",
       "      <td>FURNITURE DECORATION</td>\n",
       "      <td>8.93</td>\n",
       "    </tr>\n",
       "    <tr>\n",
       "      <th>4</th>\n",
       "      <td>WATCHES PRESENT</td>\n",
       "      <td>8.93</td>\n",
       "    </tr>\n",
       "    <tr>\n",
       "      <th>...</th>\n",
       "      <td>...</td>\n",
       "      <td>...</td>\n",
       "    </tr>\n",
       "    <tr>\n",
       "      <th>69</th>\n",
       "      <td>HOUSE COMFORT 2</td>\n",
       "      <td>0.01</td>\n",
       "    </tr>\n",
       "    <tr>\n",
       "      <th>70</th>\n",
       "      <td>CDS MUSIC DVDS</td>\n",
       "      <td>0.01</td>\n",
       "    </tr>\n",
       "    <tr>\n",
       "      <th>71</th>\n",
       "      <td>PC GAMER</td>\n",
       "      <td>0.01</td>\n",
       "    </tr>\n",
       "    <tr>\n",
       "      <th>72</th>\n",
       "      <td>FASHION CHILDREN'S CLOTHING</td>\n",
       "      <td>0.00</td>\n",
       "    </tr>\n",
       "    <tr>\n",
       "      <th>73</th>\n",
       "      <td>INSURANCE AND SERVICES</td>\n",
       "      <td>0.00</td>\n",
       "    </tr>\n",
       "  </tbody>\n",
       "</table>\n",
       "<p>74 rows × 2 columns</p>\n",
       "</div>"
      ],
      "text/plain": [
       "                       Category  Sales_percentage\n",
       "0                BED TABLE BATH             10.70\n",
       "1                 HEALTH BEAUTY             10.35\n",
       "2          COMPUTER ACCESSORIES              9.90\n",
       "3          FURNITURE DECORATION              8.93\n",
       "4               WATCHES PRESENT              8.93\n",
       "..                          ...               ...\n",
       "69              HOUSE COMFORT 2              0.01\n",
       "70               CDS MUSIC DVDS              0.01\n",
       "71                     PC GAMER              0.01\n",
       "72  FASHION CHILDREN'S CLOTHING              0.00\n",
       "73       INSURANCE AND SERVICES              0.00\n",
       "\n",
       "[74 rows x 2 columns]"
      ]
     },
     "execution_count": 17,
     "metadata": {},
     "output_type": "execute_result"
    }
   ],
   "source": [
    "query = \"\"\" select upper(products.product_category) category,\n",
    "round((sum(payments.payment_value))/(select sum(payment_value) from payments)*100,2) sales\n",
    "from products join order_items \n",
    "on products.product_id = order_items.product_id\n",
    "join payments\n",
    "on payments.order_id = order_items.order_id\n",
    "group by category order by sales desc\"\"\"\n",
    "cur.execute(query)\n",
    "data = cur.fetchall()\n",
    "pd.DataFrame(data, columns = [\"Category\",\"Sales_percentage\"])"
   ]
  },
  {
   "cell_type": "markdown",
   "id": "f63ee74f-4290-4242-93e1-1e8668f9c4ce",
   "metadata": {},
   "source": [
    "### Identify the correlation between product price and the number of times a product has been purchased."
   ]
  },
  {
   "cell_type": "code",
   "execution_count": 28,
   "id": "3e1cc4ea-d8c7-4a7d-82ea-39e4b396876a",
   "metadata": {},
   "outputs": [
    {
     "data": {
      "text/plain": [
       "array([[ 1.        , -0.10631514],\n",
       "       [-0.10631514,  1.        ]])"
      ]
     },
     "execution_count": 28,
     "metadata": {},
     "output_type": "execute_result"
    }
   ],
   "source": [
    "query = \"\"\" select products.product_category as cat,\n",
    "count(order_items.product_id),\n",
    "round(avg(order_items.price),2)\n",
    "from products join order_items\n",
    "on products.product_id = order_items.product_id\n",
    "group by cat \"\"\"\n",
    "cur.execute(query)\n",
    "data = cur.fetchall()\n",
    "df = pd.DataFrame(data,columns=[\"Product_category\",\"Order_Count\",\"price(avg)\"])\n",
    "arr1 = df[\"Order_Count\"]\n",
    "arr2 = df[\"price(avg)\"]\n",
    "np.corrcoef([arr1,arr2])"
   ]
  },
  {
   "cell_type": "markdown",
   "id": "e429a4b7-6df0-45aa-825c-40f834fb0294",
   "metadata": {},
   "source": [
    "### Calculate the total revenue generated by each seller and rank them by revenue."
   ]
  },
  {
   "cell_type": "code",
   "execution_count": 39,
   "id": "ce00c2d3-045e-444b-9452-8e2ecf621d8d",
   "metadata": {},
   "outputs": [
    {
     "data": {
      "image/png": "[encoded data removed]",
      "text/plain": [
       "<Figure size 640x480 with 1 Axes>"
      ]
     },
     "metadata": {},
     "output_type": "display_data"
    }
   ],
   "source": [
    "query = \"\"\" select *, dense_rank() over(order by revenue desc) as rn from\n",
    "(select order_items.seller_id,\n",
    "round(sum(payments.payment_value),2) as revenue\n",
    "from order_items join payments\n",
    "on order_items.order_id = payments.order_id\n",
    "group by order_items.seller_id) as a\"\"\"\n",
    "\n",
    "cur.execute(query)\n",
    "data = cur.fetchall()\n",
    "df =pd.DataFrame(data,columns=[\"Seller_id\",\"Revenue\",\"Rank\"])\n",
    "\n",
    "sns.barplot(x=\"Seller_id\",y=\"Revenue\",data=df.head())\n",
    "plt.xticks(rotation=90)\n",
    "plt.show()"
   ]
  },
  {
   "cell_type": "markdown",
   "id": "56a84a5d-f32e-4c85-a6fc-18f62274de70",
   "metadata": {},
   "source": [
    "## ADVANCED QUERIES"
   ]
  },
  {
   "cell_type": "markdown",
   "id": "158775d3-0dba-409b-807f-d7113b5ecb50",
   "metadata": {},
   "source": [
    "### Calculate the moving average of order values for each customer over their order history."
   ]
  },
  {
   "cell_type": "code",
   "execution_count": 46,
   "id": "db47f10c-b5d3-4da0-9c82-5f11e30fa156",
   "metadata": {},
   "outputs": [
    {
     "data": {
      "text/html": [
       "<div>\n",
       "<style scoped>\n",
       "    .dataframe tbody tr th:only-of-type {\n",
       "        vertical-align: middle;\n",
       "    }\n",
       "\n",
       "    .dataframe tbody tr th {\n",
       "        vertical-align: top;\n",
       "    }\n",
       "\n",
       "    .dataframe thead th {\n",
       "        text-align: right;\n",
       "    }\n",
       "</style>\n",
       "<table border=\"1\" class=\"dataframe\">\n",
       "  <thead>\n",
       "    <tr style=\"text-align: right;\">\n",
       "      <th></th>\n",
       "      <th>Order_id</th>\n",
       "      <th>Purchage_timestamp</th>\n",
       "      <th>Price</th>\n",
       "      <th>Moving_avg</th>\n",
       "    </tr>\n",
       "  </thead>\n",
       "  <tbody>\n",
       "    <tr>\n",
       "      <th>0</th>\n",
       "      <td>00012a2ce6f8dcda20d059ce98491703</td>\n",
       "      <td>2017-11-14 16:08:26</td>\n",
       "      <td>114.74</td>\n",
       "      <td>114.739998</td>\n",
       "    </tr>\n",
       "    <tr>\n",
       "      <th>1</th>\n",
       "      <td>00012a2ce6f8dcda20d059ce98491703</td>\n",
       "      <td>2017-11-14 16:08:26</td>\n",
       "      <td>114.74</td>\n",
       "      <td>114.739998</td>\n",
       "    </tr>\n",
       "    <tr>\n",
       "      <th>2</th>\n",
       "      <td>000161a058600d5901f007fab4c27140</td>\n",
       "      <td>2017-07-16 09:40:32</td>\n",
       "      <td>67.41</td>\n",
       "      <td>67.410004</td>\n",
       "    </tr>\n",
       "    <tr>\n",
       "      <th>3</th>\n",
       "      <td>000161a058600d5901f007fab4c27140</td>\n",
       "      <td>2017-07-16 09:40:32</td>\n",
       "      <td>67.41</td>\n",
       "      <td>67.410004</td>\n",
       "    </tr>\n",
       "    <tr>\n",
       "      <th>4</th>\n",
       "      <td>0001fd6190edaaf884bcaf3d49edf079</td>\n",
       "      <td>2017-02-28 11:06:43</td>\n",
       "      <td>195.42</td>\n",
       "      <td>195.419998</td>\n",
       "    </tr>\n",
       "    <tr>\n",
       "      <th>...</th>\n",
       "      <td>...</td>\n",
       "      <td>...</td>\n",
       "      <td>...</td>\n",
       "      <td>...</td>\n",
       "    </tr>\n",
       "    <tr>\n",
       "      <th>207767</th>\n",
       "      <td>ffff42319e9b2d713724ae527742af25</td>\n",
       "      <td>2018-06-13 16:57:05</td>\n",
       "      <td>214.13</td>\n",
       "      <td>214.130005</td>\n",
       "    </tr>\n",
       "    <tr>\n",
       "      <th>207768</th>\n",
       "      <td>ffffa3172527f765de70084a7e53aae8</td>\n",
       "      <td>2017-09-02 11:53:32</td>\n",
       "      <td>45.50</td>\n",
       "      <td>45.500000</td>\n",
       "    </tr>\n",
       "    <tr>\n",
       "      <th>207769</th>\n",
       "      <td>ffffa3172527f765de70084a7e53aae8</td>\n",
       "      <td>2017-09-02 11:53:32</td>\n",
       "      <td>45.50</td>\n",
       "      <td>45.500000</td>\n",
       "    </tr>\n",
       "    <tr>\n",
       "      <th>207770</th>\n",
       "      <td>ffffe8b65bbe3087b653a978c870db99</td>\n",
       "      <td>2017-09-29 14:07:03</td>\n",
       "      <td>18.37</td>\n",
       "      <td>18.370001</td>\n",
       "    </tr>\n",
       "    <tr>\n",
       "      <th>207771</th>\n",
       "      <td>ffffe8b65bbe3087b653a978c870db99</td>\n",
       "      <td>2017-09-29 14:07:03</td>\n",
       "      <td>18.37</td>\n",
       "      <td>18.370001</td>\n",
       "    </tr>\n",
       "  </tbody>\n",
       "</table>\n",
       "<p>207772 rows × 4 columns</p>\n",
       "</div>"
      ],
      "text/plain": [
       "                                Order_id   Purchage_timestamp   Price  \\\n",
       "0       00012a2ce6f8dcda20d059ce98491703  2017-11-14 16:08:26  114.74   \n",
       "1       00012a2ce6f8dcda20d059ce98491703  2017-11-14 16:08:26  114.74   \n",
       "2       000161a058600d5901f007fab4c27140  2017-07-16 09:40:32   67.41   \n",
       "3       000161a058600d5901f007fab4c27140  2017-07-16 09:40:32   67.41   \n",
       "4       0001fd6190edaaf884bcaf3d49edf079  2017-02-28 11:06:43  195.42   \n",
       "...                                  ...                  ...     ...   \n",
       "207767  ffff42319e9b2d713724ae527742af25  2018-06-13 16:57:05  214.13   \n",
       "207768  ffffa3172527f765de70084a7e53aae8  2017-09-02 11:53:32   45.50   \n",
       "207769  ffffa3172527f765de70084a7e53aae8  2017-09-02 11:53:32   45.50   \n",
       "207770  ffffe8b65bbe3087b653a978c870db99  2017-09-29 14:07:03   18.37   \n",
       "207771  ffffe8b65bbe3087b653a978c870db99  2017-09-29 14:07:03   18.37   \n",
       "\n",
       "        Moving_avg  \n",
       "0       114.739998  \n",
       "1       114.739998  \n",
       "2        67.410004  \n",
       "3        67.410004  \n",
       "4       195.419998  \n",
       "...            ...  \n",
       "207767  214.130005  \n",
       "207768   45.500000  \n",
       "207769   45.500000  \n",
       "207770   18.370001  \n",
       "207771   18.370001  \n",
       "\n",
       "[207772 rows x 4 columns]"
      ]
     },
     "execution_count": 46,
     "metadata": {},
     "output_type": "execute_result"
    }
   ],
   "source": [
    "query = \"\"\" select customer_id,order_purchase_timestamp,\n",
    "payment, avg(payment) over(partition by customer_id order by \n",
    "order_purchase_timestamp rows between 2 preceding and current row)\n",
    "as mov_avg from (select orders.customer_id,orders.order_purchase_timestamp,\n",
    "payments.payment_value as payment from orders join payments\n",
    "on orders.order_id = payments.order_id) as cust \"\"\"\n",
    "cur.execute(query)\n",
    "data = cur.fetchall()\n",
    "pd.DataFrame(data,columns=[\"Order_id\",\"Purchage_timestamp\",\"Price\",\"Moving_avg\"])"
   ]
  },
  {
   "cell_type": "markdown",
   "id": "ab77ef28-48c8-4cd7-a9c7-7dcfe2f89284",
   "metadata": {},
   "source": [
    "### Calculate the cumulative sales per month for each year."
   ]
  },
  {
   "cell_type": "code",
   "execution_count": 72,
   "id": "2f43e6fc-5e84-49e6-b8de-330ee02d5bbd",
   "metadata": {},
   "outputs": [
    {
     "data": {
      "text/html": [
       "<div>\n",
       "<style scoped>\n",
       "    .dataframe tbody tr th:only-of-type {\n",
       "        vertical-align: middle;\n",
       "    }\n",
       "\n",
       "    .dataframe tbody tr th {\n",
       "        vertical-align: top;\n",
       "    }\n",
       "\n",
       "    .dataframe thead th {\n",
       "        text-align: right;\n",
       "    }\n",
       "</style>\n",
       "<table border=\"1\" class=\"dataframe\">\n",
       "  <thead>\n",
       "    <tr style=\"text-align: right;\">\n",
       "      <th></th>\n",
       "      <th>Year</th>\n",
       "      <th>Month</th>\n",
       "      <th>Sales</th>\n",
       "      <th>Cumulative_Sales</th>\n",
       "    </tr>\n",
       "  </thead>\n",
       "  <tbody>\n",
       "    <tr>\n",
       "      <th>0</th>\n",
       "      <td>2016</td>\n",
       "      <td>9</td>\n",
       "      <td>504.0</td>\n",
       "      <td>504.0</td>\n",
       "    </tr>\n",
       "    <tr>\n",
       "      <th>1</th>\n",
       "      <td>2016</td>\n",
       "      <td>10</td>\n",
       "      <td>118181.0</td>\n",
       "      <td>118685.0</td>\n",
       "    </tr>\n",
       "    <tr>\n",
       "      <th>2</th>\n",
       "      <td>2016</td>\n",
       "      <td>12</td>\n",
       "      <td>39.0</td>\n",
       "      <td>118724.0</td>\n",
       "    </tr>\n",
       "    <tr>\n",
       "      <th>3</th>\n",
       "      <td>2017</td>\n",
       "      <td>1</td>\n",
       "      <td>276976.0</td>\n",
       "      <td>395700.0</td>\n",
       "    </tr>\n",
       "    <tr>\n",
       "      <th>4</th>\n",
       "      <td>2017</td>\n",
       "      <td>2</td>\n",
       "      <td>583816.0</td>\n",
       "      <td>979516.0</td>\n",
       "    </tr>\n",
       "  </tbody>\n",
       "</table>\n",
       "</div>"
      ],
      "text/plain": [
       "   Year  Month     Sales  Cumulative_Sales\n",
       "0  2016      9     504.0             504.0\n",
       "1  2016     10  118181.0          118685.0\n",
       "2  2016     12      39.0          118724.0\n",
       "3  2017      1  276976.0          395700.0\n",
       "4  2017      2  583816.0          979516.0"
      ]
     },
     "execution_count": 72,
     "metadata": {},
     "output_type": "execute_result"
    }
   ],
   "source": [
    "query = \"\"\" select years, months, payment, sum(payment) \n",
    "over(order by years,months) as cumulative_sales from \n",
    "(select year(orders.order_purchase_timestamp) as years,\n",
    "month(orders.order_purchase_timestamp) as months, \n",
    "round(sum(payments.payment_value)) as payment\n",
    "from orders join payments on orders.order_id = payments.order_id\n",
    "group by years, months order by years,months) as o \"\"\"\n",
    "\n",
    "cur.execute(query)\n",
    "data = cur.fetchall()\n",
    "df = pd.DataFrame(data,columns=[\"Year\",\"Month\",\"Sales\",\"Cumulative_Sales\"])\n",
    "df.head()"
   ]
  },
  {
   "cell_type": "markdown",
   "id": "4bbeaf23-f001-4b0d-a8ff-e73ea0fd9822",
   "metadata": {},
   "source": [
    "### Calculate year over year growth rate of total sales"
   ]
  },
  {
   "cell_type": "code",
   "execution_count": 88,
   "id": "0cc4ccb5-a0e3-4764-b190-f85a44834e95",
   "metadata": {},
   "outputs": [
    {
     "data": {
      "text/html": [
       "<div>\n",
       "<style scoped>\n",
       "    .dataframe tbody tr th:only-of-type {\n",
       "        vertical-align: middle;\n",
       "    }\n",
       "\n",
       "    .dataframe tbody tr th {\n",
       "        vertical-align: top;\n",
       "    }\n",
       "\n",
       "    .dataframe thead th {\n",
       "        text-align: right;\n",
       "    }\n",
       "</style>\n",
       "<table border=\"1\" class=\"dataframe\">\n",
       "  <thead>\n",
       "    <tr style=\"text-align: right;\">\n",
       "      <th></th>\n",
       "      <th>Year</th>\n",
       "      <th>Sales</th>\n",
       "      <th>year_by_year_%growth</th>\n",
       "    </tr>\n",
       "  </thead>\n",
       "  <tbody>\n",
       "    <tr>\n",
       "      <th>0</th>\n",
       "      <td>2016</td>\n",
       "      <td>118725.0</td>\n",
       "      <td>NaN</td>\n",
       "    </tr>\n",
       "    <tr>\n",
       "      <th>1</th>\n",
       "      <td>2017</td>\n",
       "      <td>14499493.0</td>\n",
       "      <td>12112.670457</td>\n",
       "    </tr>\n",
       "    <tr>\n",
       "      <th>2</th>\n",
       "      <td>2018</td>\n",
       "      <td>17399526.0</td>\n",
       "      <td>20.000927</td>\n",
       "    </tr>\n",
       "  </tbody>\n",
       "</table>\n",
       "</div>"
      ],
      "text/plain": [
       "   Year       Sales  year_by_year_%growth\n",
       "0  2016    118725.0                   NaN\n",
       "1  2017  14499493.0          12112.670457\n",
       "2  2018  17399526.0             20.000927"
      ]
     },
     "execution_count": 88,
     "metadata": {},
     "output_type": "execute_result"
    }
   ],
   "source": [
    "query = \"\"\" with a as (select year(orders.order_purchase_timestamp) as years,\n",
    "round(sum(payments.payment_value)) as payment\n",
    "from orders join payments on\n",
    "orders.order_id = payments.order_id\n",
    "group by years order by years)\n",
    "select years,payment,((payment-lag(payment,1) over(order by years))/lag(payment,1) over(order by years))*100\n",
    "from a\"\"\"\n",
    "cur.execute(query)\n",
    "data = cur.fetchall()\n",
    "df = pd.DataFrame(data,columns=[\"Year\",\"Sales\",\"year_by_year_%growth\"])\n",
    "df.head()"
   ]
  },
  {
   "cell_type": "code",
   "execution_count": null,
   "id": "63f9b00b-5e70-4b4f-a3a7-2219242f9a3f",
   "metadata": {},
   "outputs": [],
   "source": []
  }
 ],
 "metadata": {
  "kernelspec": {
   "display_name": "Python 3 (ipykernel)",
   "language": "python",
   "name": "python3"
  },
  "language_info": {
   "codemirror_mode": {
    "name": "ipython",
    "version": 3
   },
   "file_extension": ".py",
   "mimetype": "text/x-python",
   "name": "python",
   "nbconvert_exporter": "python",
   "pygments_lexer": "ipython3",
   "version": "3.12.4"
  }
 },
 "nbformat": 4,
 "nbformat_minor": 5
}
